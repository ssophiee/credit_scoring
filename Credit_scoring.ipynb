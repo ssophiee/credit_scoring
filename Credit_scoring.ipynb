{
  "cells": [
    {
      "cell_type": "markdown",
      "metadata": {
        "id": "wf2EOSnosxJc"
      },
      "source": [
        "## Libraries"
      ]
    },
    {
      "cell_type": "code",
      "execution_count": 1,
      "metadata": {
        "colab": {
          "base_uri": "https://localhost:8080/"
        },
        "id": "Lm_FMZ0yF831",
        "outputId": "33378736-40a5-4b5c-8b5c-c5beb54baa95"
      },
      "outputs": [
        {
          "output_type": "stream",
          "name": "stdout",
          "text": [
            "Mounted at /content/drive\n"
          ]
        }
      ],
      "source": [
        "from google.colab import drive\n",
        "drive.mount('/content/drive')"
      ]
    },
    {
      "cell_type": "code",
      "execution_count": 17,
      "metadata": {
        "id": "hPLnHk_HGSqi"
      },
      "outputs": [],
      "source": [
        "import pandas as pd\n",
        "import numpy as np\n",
        "import matplotlib.pyplot as plt\n",
        "import seaborn as sns\n",
        "import scipy\n",
        "import pickle\n",
        "from scipy import stats\n",
        "\n",
        "from sklearn.neighbors import KNeighborsClassifier \n",
        "from sklearn.metrics import f1_score, accuracy_score, recall_score, precision_score, roc_curve, \\\n",
        "                            roc_auc_score, r2_score, mean_squared_error, average_precision_score, \\\n",
        "                            precision_recall_curve, confusion_matrix, classification_report\n",
        "\n",
        "from sklearn.model_selection import train_test_split, GridSearchCV, RandomizedSearchCV, cross_val_score\n",
        "from sklearn.preprocessing import StandardScaler\n",
        "from sklearn.tree import DecisionTreeClassifier\n",
        "from sklearn.ensemble import RandomForestClassifier, VotingClassifier\n",
        "from sklearn.linear_model import LinearRegression, LogisticRegression\n",
        "\n",
        "from sklearn.tree import export_graphviz\n",
        "import graphviz\n",
        "\n",
        "from pydot import graph_from_dot_file\n",
        "\n",
        "from scipy.stats import randint, uniform\n",
        "\n",
        "plt.style.use('ggplot')"
      ]
    },
    {
      "cell_type": "code",
      "execution_count": 27,
      "metadata": {
        "id": "xTMJrFxPGJnr"
      },
      "outputs": [],
      "source": [
        "X = pd.read_csv('/content/drive/MyDrive/CMF/2021-bank-scoring-case-2/X_train.csv')"
      ]
    },
    {
      "cell_type": "code",
      "execution_count": 28,
      "metadata": {
        "id": "pYEKP6_oGRbT"
      },
      "outputs": [],
      "source": [
        "y = pd.read_csv('/content/drive/MyDrive/CMF/2021-bank-scoring-case-2/y_train.csv')['target'].astype('int')"
      ]
    },
    {
      "cell_type": "code",
      "execution_count": 29,
      "metadata": {
        "id": "jzhIXfnkGV4v"
      },
      "outputs": [],
      "source": [
        "X_test_check = pd.read_csv('/content/drive/MyDrive/CMF/2021-bank-scoring-case-2/X_test.csv').drop('index', axis=1)\n",
        "X_test_checks = pd.read_csv('/content/drive/MyDrive/CMF/2021-bank-scoring-case-2/X_test.csv')"
      ]
    },
    {
      "cell_type": "code",
      "source": [
        "def del_outliers(X):\n",
        "\n",
        "    needed = ['credit_card_utilization', 'overdue_30_59_days',  'family_members', 'credits_loans', 'monthly_income', 'debt_to_income']\n",
        "\n",
        "    for column in needed:\n",
        "\n",
        "        if column in ['credit_card_utilization', 'overdue_30_59_days']:\n",
        "\n",
        "                quantile1 = 0.05\n",
        "                quantile3 = 0.95 \n",
        "\n",
        "        if column in ['family_members', 'credits_loans', 'monthly_income', 'debt_to_income']:\n",
        "            \n",
        "                quantile1 = 0.1\n",
        "                quantile3 = 0.9\n",
        "            \n",
        "        q1 = X[column].quantile(quantile1)\n",
        "        q3 = X[column].quantile(quantile3)\n",
        "\n",
        "        IQR = q3 - q1\n",
        "\n",
        "        c = X.loc[(X[column] < q1 - 3 * IQR) | (X[column] > 3 * IQR + q3)].index\n",
        "        X.drop(labels = c, inplace = True)\n",
        "        y.drop(labels = c, inplace = True)\n",
        "\n",
        "    return X.shape"
      ],
      "metadata": {
        "id": "Zj4t1ftbte_B"
      },
      "execution_count": null,
      "outputs": []
    },
    {
      "cell_type": "code",
      "execution_count": null,
      "metadata": {
        "id": "Ou6MFkXntZtu"
      },
      "outputs": [],
      "source": [
        "def set_threshold(threshold, y_pred_proba):\n",
        "    y_w_threshold = []\n",
        "    for i in y_pred_proba:\n",
        "        if i > threshold:\n",
        "            y_w_threshold.append(1)\n",
        "        else:\n",
        "            y_w_threshold.append(0)\n",
        "    return y_w_threshold"
      ]
    },
    {
      "cell_type": "markdown",
      "metadata": {
        "id": "TjzXAqKWs6eR"
      },
      "source": [
        "## EDA"
      ]
    },
    {
      "cell_type": "markdown",
      "metadata": {
        "id": "-30M4TM5XSlX"
      },
      "source": [
        "There are NaN in such columns as monthly_income, family_members"
      ]
    },
    {
      "cell_type": "code",
      "execution_count": null,
      "metadata": {
        "colab": {
          "base_uri": "https://localhost:8080/"
        },
        "id": "V6fnQyL8tCJk",
        "outputId": "b17b2f0a-bffe-4231-accc-ddd5d5930059"
      },
      "outputs": [
        {
          "output_type": "stream",
          "name": "stdout",
          "text": [
            "monthly_income NaN proportion: 0.2\n",
            "family_members NaN proportion: 0.03\n"
          ]
        }
      ],
      "source": [
        "nan_ratio(X)"
      ]
    },
    {
      "cell_type": "code",
      "source": [
        "nan_ratio(X_test_check)"
      ],
      "metadata": {
        "colab": {
          "base_uri": "https://localhost:8080/"
        },
        "id": "uelWNV5qMnD6",
        "outputId": "531f90e8-0637-43f8-b0f3-a9eeedc1eabf"
      },
      "execution_count": null,
      "outputs": [
        {
          "output_type": "stream",
          "name": "stdout",
          "text": [
            "monthly_income NaN proportion: 0.19\n",
            "family_members NaN proportion: 0.02\n"
          ]
        }
      ]
    },
    {
      "cell_type": "markdown",
      "source": [
        "Replacing NaN in each column with the mean of this column "
      ],
      "metadata": {
        "id": "lt8XyKrEpBV-"
      }
    },
    {
      "cell_type": "code",
      "execution_count": null,
      "metadata": {
        "id": "YHHWQ2-69tgR"
      },
      "outputs": [],
      "source": [
        "for df in [X, X_test_check]:\n",
        "    income_mean = df['monthly_income'].mean()\n",
        "    family_members_mean = df['family_members'].mean()\n",
        "    df['monthly_income'] = df['monthly_income'].fillna((df['monthly_income'].mean()))\n",
        "    df['family_members'] = df['family_members'].fillna((df['family_members'].mean()))"
      ]
    },
    {
      "cell_type": "code",
      "source": [
        "X.shape"
      ],
      "metadata": {
        "colab": {
          "base_uri": "https://localhost:8080/"
        },
        "id": "qo-610aYAsIP",
        "outputId": "c616b04d-6b58-4b8e-a8d0-5e6028e1b5a9"
      },
      "execution_count": null,
      "outputs": [
        {
          "output_type": "execute_result",
          "data": {
            "text/plain": [
              "(105109, 10)"
            ]
          },
          "metadata": {},
          "execution_count": 139
        }
      ]
    },
    {
      "cell_type": "markdown",
      "metadata": {
        "id": "aBsBH_Vrq0LI"
      },
      "source": [
        "Delete outliers\n",
        "\n",
        "*   4037 elements were considered to be outliers\n",
        "\n",
        "\n",
        "\n",
        "\n"
      ]
    },
    {
      "cell_type": "code",
      "execution_count": null,
      "metadata": {
        "id": "KbHxkEjg2ypq",
        "colab": {
          "base_uri": "https://localhost:8080/"
        },
        "outputId": "c6c36b37-68ed-417c-a931-97e39201efb8"
      },
      "outputs": [
        {
          "output_type": "execute_result",
          "data": {
            "text/plain": [
              "(103288, 10)"
            ]
          },
          "metadata": {},
          "execution_count": 173
        }
      ],
      "source": [
        "del_outliers(X)"
      ]
    },
    {
      "cell_type": "markdown",
      "metadata": {
        "id": "kHjOXEpAD79v"
      },
      "source": [
        "Correlation between features is visualized"
      ]
    },
    {
      "cell_type": "markdown",
      "metadata": {
        "id": "FzNVuc7WDhlS"
      },
      "source": [
        "There is no multicollinearity "
      ]
    },
    {
      "cell_type": "code",
      "execution_count": null,
      "metadata": {
        "colab": {
          "base_uri": "https://localhost:8080/",
          "height": 410
        },
        "id": "te_kqynSDYEu",
        "outputId": "44a47757-05f5-48c2-e199-c68e584cce2a"
      },
      "outputs": [
        {
          "output_type": "display_data",
          "data": {
            "image/png": "[encoded data removed]",
            "text/plain": [
              "<Figure size 432x288 with 2 Axes>"
            ]
          },
          "metadata": {}
        }
      ],
      "source": [
        "sns.heatmap(X.corr(), annot=True, fmt='.1g')\n",
        "plt.show()"
      ]
    },
    {
      "cell_type": "markdown",
      "metadata": {
        "id": "z1DgGkfRVQ3f"
      },
      "source": [
        "Histograms are created "
      ]
    },
    {
      "cell_type": "code",
      "execution_count": null,
      "metadata": {
        "colab": {
          "base_uri": "https://localhost:8080/",
          "height": 916
        },
        "id": "4grSB7uBnr1k",
        "outputId": "aa52d6fa-6842-44c2-ebfd-00d86f765a75"
      },
      "outputs": [
        {
          "name": "stdout",
          "output_type": "stream",
          "text": [
            "\n",
            " In the column age mean equals to 53.3\n"
          ]
        },
        {
          "data": {
            "image/png": "[encoded data removed]",
            "text/plain": [
              "<Figure size 432x288 with 1 Axes>"
            ]
          },
          "metadata": {},
          "output_type": "display_data"
        },
        {
          "name": "stdout",
          "output_type": "stream",
          "text": [
            "\n",
            " In the column credits_loans mean equals to 8.66\n"
          ]
        },
        {
          "data": {
            "image/png": "[encoded data removed]",
            "text/plain": [
              "<Figure size 432x288 with 1 Axes>"
            ]
          },
          "metadata": {},
          "output_type": "display_data"
        },
        {
          "name": "stdout",
          "output_type": "stream",
          "text": [
            "\n",
            " In the column family_members mean equals to 0.73\n"
          ]
        },
        {
          "data": {
            "image/png": "[encoded data removed]",
            "text/plain": [
              "<Figure size 432x288 with 1 Axes>"
            ]
          },
          "metadata": {},
          "output_type": "display_data"
        }
      ],
      "source": [
        "for column in ['age', 'credits_loans', 'family_members']:\n",
        "    plt.hist(X[column], bins=10, color=sns.color_palette(\"rocket\")[1])\n",
        "    mean = np.mean(X[column])\n",
        "    print(f'\\n In the column {column} mean equals to {round(mean, 2)}')\n",
        "    plt.title(column)\n",
        "    plt.show()\n"
      ]
    },
    {
      "cell_type": "markdown",
      "metadata": {
        "id": "KdrGxCCF8bjg"
      },
      "source": [
        "0 == will not ovedue more than 90 days <br> \n",
        "1 == will overdue"
      ]
    },
    {
      "cell_type": "markdown",
      "metadata": {
        "id": "7nUcAxNEFuTb"
      },
      "source": [
        "## Models "
      ]
    },
    {
      "cell_type": "code",
      "execution_count": null,
      "metadata": {
        "id": "kdSjww7qJ2GF"
      },
      "outputs": [],
      "source": [
        "X = StandardScaler().fit_transform(X)"
      ]
    },
    {
      "cell_type": "code",
      "source": [
        "X_test_check = StandardScaler().fit_transform(X_test_check)"
      ],
      "metadata": {
        "id": "1bmvaJKeiCRi"
      },
      "execution_count": null,
      "outputs": []
    },
    {
      "cell_type": "code",
      "execution_count": null,
      "metadata": {
        "id": "fkEKV7krJ-Hb"
      },
      "outputs": [],
      "source": [
        "X_train, X_test, y_train, y_test = train_test_split(X, y, test_size=0.3, stratify=y, random_state=666)"
      ]
    },
    {
      "cell_type": "code",
      "execution_count": null,
      "metadata": {
        "colab": {
          "base_uri": "https://localhost:8080/"
        },
        "id": "YFSzqbR0KG_9",
        "outputId": "c7a591da-7863-422b-9e76-0bc0a99c652e"
      },
      "outputs": [
        {
          "output_type": "execute_result",
          "data": {
            "text/plain": [
              "array([-0.00133092,  0.00090989, -0.00074949, -0.00224235,  0.0012922 ,\n",
              "        0.0008786 , -0.00048085,  0.00080949, -0.00144609, -0.00047297])"
            ]
          },
          "metadata": {},
          "execution_count": 177
        }
      ],
      "source": [
        "X_train.mean(axis=0)"
      ]
    },
    {
      "cell_type": "markdown",
      "metadata": {
        "id": "2rmEPJrJF_wQ"
      },
      "source": [
        "### Logistic Regression"
      ]
    },
    {
      "cell_type": "markdown",
      "metadata": {
        "id": "Hw60juj5H3LM"
      },
      "source": [
        "This model is used only for classification tasks"
      ]
    },
    {
      "cell_type": "code",
      "execution_count": null,
      "metadata": {
        "id": "1UQKyPgtGF-5"
      },
      "outputs": [],
      "source": [
        "logreg = LogisticRegression()"
      ]
    },
    {
      "cell_type": "markdown",
      "source": [
        "Prediction of X_test\n"
      ],
      "metadata": {
        "id": "Sgn_-NSDz5xv"
      }
    },
    {
      "cell_type": "code",
      "execution_count": null,
      "metadata": {
        "id": "49vZUxHXHz_Q"
      },
      "outputs": [],
      "source": [
        "logreg.fit(X_train, y_train)\n",
        "y_pred = logreg.predict(X_test)\n",
        "y_pred_proba = logreg.predict_proba(X_test)[:,1] #probability to have 1 "
      ]
    },
    {
      "cell_type": "markdown",
      "source": [
        "ROC Curve"
      ],
      "metadata": {
        "id": "EID3WOcyz7hW"
      }
    },
    {
      "cell_type": "code",
      "execution_count": null,
      "metadata": {
        "colab": {
          "base_uri": "https://localhost:8080/",
          "height": 316
        },
        "id": "hCIDui9NNSZo",
        "outputId": "6f1f0733-7a43-401d-b065-8779e6c59f72"
      },
      "outputs": [
        {
          "output_type": "execute_result",
          "data": {
            "text/plain": [
              "Text(0.5, 1.0, 'Logistic Regression ROC Curve')"
            ]
          },
          "metadata": {},
          "execution_count": 180
        },
        {
          "output_type": "display_data",
          "data": {
            "image/png": "[encoded data removed]",
            "text/plain": [
              "<Figure size 432x288 with 1 Axes>"
            ]
          },
          "metadata": {}
        }
      ],
      "source": [
        "fpr, tpr, thresholds = roc_curve(y_test, y_pred_proba)\n",
        "plt.plot([0,1], [0,1], 'k--')\n",
        "\n",
        "for x, y, txt in zip(fpr[::200], tpr[::200], thresholds[::200]):\n",
        "    plt.annotate(np.round(txt,2), (x, y-0.04))\n",
        "\n",
        "plt.plot(fpr, tpr, label='Logistic Regression')\n",
        "plt.xlabel('False Positive Rate')\n",
        "plt.ylabel('True Positive Rate')\n",
        "plt.title('Logistic Regression ROC Curve')"
      ]
    },
    {
      "cell_type": "code",
      "execution_count": null,
      "metadata": {
        "id": "Gv4OjKpvJzLN"
      },
      "outputs": [],
      "source": [
        "y_pred_proba_w_thr = set_threshold(0.06, y_pred_proba) "
      ]
    },
    {
      "cell_type": "code",
      "execution_count": null,
      "metadata": {
        "colab": {
          "base_uri": "https://localhost:8080/"
        },
        "id": "SnkEcYzIAJN4",
        "outputId": "1e9ec7b1-bb8c-4609-d2f4-66bc2e7cd137"
      },
      "outputs": [
        {
          "output_type": "stream",
          "name": "stdout",
          "text": [
            "AUC =  0.78\n"
          ]
        }
      ],
      "source": [
        "print('AUC = ', round(roc_auc_score(y_test, y_pred_proba_w_thr), 2))"
      ]
    },
    {
      "cell_type": "code",
      "source": [
        "print(classification_report(y_test, y_pred_proba_w_thr))"
      ],
      "metadata": {
        "colab": {
          "base_uri": "https://localhost:8080/"
        },
        "id": "9iaQn8M8FSdT",
        "outputId": "c362c2ca-5cec-4e32-e28b-c557fed57bb7"
      },
      "execution_count": null,
      "outputs": [
        {
          "output_type": "stream",
          "name": "stdout",
          "text": [
            "              precision    recall  f1-score   support\n",
            "\n",
            "           0       0.98      0.73      0.84     28947\n",
            "           1       0.18      0.82      0.29      2040\n",
            "\n",
            "    accuracy                           0.73     30987\n",
            "   macro avg       0.58      0.78      0.56     30987\n",
            "weighted avg       0.93      0.73      0.80     30987\n",
            "\n"
          ]
        }
      ]
    },
    {
      "cell_type": "markdown",
      "source": [
        "Prediction of X_test on Kaggle"
      ],
      "metadata": {
        "id": "4qoyDTmaiE2l"
      }
    },
    {
      "cell_type": "code",
      "source": [
        "y_pred_proba_test = logreg.predict_proba(X_test_check)[:,1]"
      ],
      "metadata": {
        "id": "YVEpxFe3Zesl"
      },
      "execution_count": null,
      "outputs": []
    },
    {
      "cell_type": "code",
      "source": [
        "df_test = pd.DataFrame()\n",
        "df_test['index'] = X_test_checks['index'] \n",
        "df_test['target'] = y_pred_proba_test\n",
        "df_test.to_csv('logreg1.csv', index = False) "
      ],
      "metadata": {
        "id": "61EYNmbEZmo3"
      },
      "execution_count": null,
      "outputs": []
    },
    {
      "cell_type": "markdown",
      "metadata": {
        "id": "-6Zyfwp2uBZm"
      },
      "source": [
        "Hyperparameters tuning"
      ]
    },
    {
      "cell_type": "code",
      "execution_count": null,
      "metadata": {
        "id": "apltLugpRImj"
      },
      "outputs": [],
      "source": [
        "c_space = [0.001, 0.01, 0.1, 1, 1.5, 3, 5, 10] \n",
        "param_dist = {'C' : c_space}\n"
      ]
    },
    {
      "cell_type": "code",
      "execution_count": null,
      "metadata": {
        "colab": {
          "base_uri": "https://localhost:8080/"
        },
        "id": "3ZLy19g4RZTJ",
        "outputId": "5b5f8238-fb0e-4ae7-b450-def99d19522f"
      },
      "outputs": [
        {
          "output_type": "stream",
          "name": "stdout",
          "text": [
            "Tuned Log Reg Parameters: {'C': 1}\n"
          ]
        }
      ],
      "source": [
        "#from pandas.core.common import random_state\n",
        "logreg_cv = GridSearchCV(logreg, param_dist, cv=5, error_score='raise')\n",
        "logreg_cv.fit(X, y)\n",
        "print(\"Tuned Log Reg Parameters: {}\".format(logreg_cv.best_params_))"
      ]
    },
    {
      "cell_type": "code",
      "execution_count": null,
      "metadata": {
        "id": "WEBF5c6UIxY0"
      },
      "outputs": [],
      "source": [
        "logreg_cv_best = logreg_cv.best_estimator_"
      ]
    },
    {
      "cell_type": "code",
      "source": [
        "logreg_cv_best"
      ],
      "metadata": {
        "colab": {
          "base_uri": "https://localhost:8080/"
        },
        "id": "bxk4j_rCXPu-",
        "outputId": "e6708ef8-3d8b-4e93-8966-051e009125a9"
      },
      "execution_count": null,
      "outputs": [
        {
          "output_type": "execute_result",
          "data": {
            "text/plain": [
              "LogisticRegression(C=1)"
            ]
          },
          "metadata": {},
          "execution_count": 211
        }
      ]
    },
    {
      "cell_type": "markdown",
      "source": [
        "Prediction of X_test\n"
      ],
      "metadata": {
        "id": "hP4INNHZzxBk"
      }
    },
    {
      "cell_type": "code",
      "execution_count": null,
      "metadata": {
        "id": "4GRh7vlkKFUE"
      },
      "outputs": [],
      "source": [
        "y_pred_proba = logreg_cv_best.predict_proba(X_test)[::,1]\n",
        "y_pred = logreg_cv_best.predict(X_test)"
      ]
    },
    {
      "cell_type": "markdown",
      "source": [
        "ROC Curve"
      ],
      "metadata": {
        "id": "-Nc_xYGVz9fO"
      }
    },
    {
      "cell_type": "code",
      "execution_count": null,
      "metadata": {
        "colab": {
          "base_uri": "https://localhost:8080/",
          "height": 316
        },
        "id": "qPcUC4GADVpe",
        "outputId": "2dec0f6f-1466-4113-b11d-c66cec7002ad"
      },
      "outputs": [
        {
          "output_type": "execute_result",
          "data": {
            "text/plain": [
              "Text(0.5, 1.0, 'Logistic Regression ROC Curve')"
            ]
          },
          "metadata": {},
          "execution_count": 213
        },
        {
          "output_type": "display_data",
          "data": {
            "image/png": "[encoded data removed]",
            "text/plain": [
              "<Figure size 432x288 with 1 Axes>"
            ]
          },
          "metadata": {}
        }
      ],
      "source": [
        "fpr, tpr, thresholds = roc_curve(y_test, y_pred_proba)\n",
        "plt.plot([0,1], [0,1], 'k--')\n",
        "\n",
        "for x, y, txt in zip(fpr[::200], tpr[::200], thresholds[::200]):\n",
        "    plt.annotate(np.round(txt,2), (x, y-0.04))\n",
        "\n",
        "plt.plot(fpr, tpr, label='Logistic Regression')\n",
        "plt.xlabel('False Positive Rate')\n",
        "plt.ylabel('True Positive Rate')\n",
        "plt.title('Logistic Regression ROC Curve')"
      ]
    },
    {
      "cell_type": "code",
      "execution_count": null,
      "metadata": {
        "id": "9-imU99jDcsT"
      },
      "outputs": [],
      "source": [
        "y_w_threshold = set_threshold(0.06, y_pred_proba)"
      ]
    },
    {
      "cell_type": "markdown",
      "source": [
        "Model evaluation"
      ],
      "metadata": {
        "id": "TlMPWcKizy4i"
      }
    },
    {
      "cell_type": "code",
      "execution_count": null,
      "metadata": {
        "colab": {
          "base_uri": "https://localhost:8080/"
        },
        "id": "oDVJLn3KCKCg",
        "outputId": "481e839f-03dc-4150-9717-6e2c6a67e5b8"
      },
      "outputs": [
        {
          "output_type": "stream",
          "name": "stdout",
          "text": [
            "AUC = 0.78\n",
            "APS = 0.17\n"
          ]
        }
      ],
      "source": [
        "print('AUC =', round(roc_auc_score(y_test, y_w_threshold), 2))\n",
        "print('APS =', round(average_precision_score(y_test, y_w_threshold), 2))"
      ]
    },
    {
      "cell_type": "code",
      "execution_count": null,
      "metadata": {
        "id": "SozjJx_8uUAc",
        "colab": {
          "base_uri": "https://localhost:8080/"
        },
        "outputId": "7f263230-acd5-4714-89d8-ef9b23d488ab"
      },
      "outputs": [
        {
          "output_type": "stream",
          "name": "stdout",
          "text": [
            "              precision    recall  f1-score   support\n",
            "\n",
            "           0       0.98      0.78      0.87     28938\n",
            "           1       0.20      0.78      0.31      2040\n",
            "\n",
            "    accuracy                           0.78     30978\n",
            "   macro avg       0.59      0.78      0.59     30978\n",
            "weighted avg       0.93      0.78      0.83     30978\n",
            "\n"
          ]
        }
      ],
      "source": [
        "print(classification_report(y_test, y_w_threshold))"
      ]
    },
    {
      "cell_type": "markdown",
      "metadata": {
        "id": "kGaioCXSZ7xt"
      },
      "source": [
        "Features mentioned below have the largest impact on the outcome\n",
        "\n",
        "*   overdue__more_than_90_days\n",
        "*   overdue_30_59_days\n",
        "*   overdue_60_89_days\n",
        "\n",
        "\n",
        "\n"
      ]
    },
    {
      "cell_type": "code",
      "execution_count": null,
      "metadata": {
        "colab": {
          "base_uri": "https://localhost:8080/"
        },
        "id": "U67WS7GXYan_",
        "outputId": "96e24293-8b01-4ce4-9a84-9e7e074114dd"
      },
      "outputs": [
        {
          "output_type": "stream",
          "name": "stdout",
          "text": [
            "                     Variable  Coefficient\n",
            "1     credit_card_utilization     0.489921\n",
            "2  overdue__more_than_90_days     0.299325\n",
            "3          overdue_30_59_days     0.286984\n"
          ]
        }
      ],
      "source": [
        "model_coefficients = logreg_cv_best.coef_[0]\n",
        "\n",
        "# Create a dataframe of the variables and coefficients & print it out\n",
        "coefficient_df = pd.DataFrame({\"Variable\" : X_values, \"Coefficient\": model_coefficients})\n",
        "\n",
        "# Print out the top 3 positive variables\n",
        "top_three_df = coefficient_df.sort_values(by='Coefficient', axis=0, ascending=False)[0:3].set_index(pd.Index([1,2,3]))\n",
        "print(top_three_df)"
      ]
    },
    {
      "cell_type": "markdown",
      "source": [
        "Prediction of X_test on Kaggle\n"
      ],
      "metadata": {
        "id": "xdSVnIzhO0qq"
      }
    },
    {
      "cell_type": "code",
      "source": [
        "X_test_check = StandardScaler().fit_transform(X_test_check)"
      ],
      "metadata": {
        "id": "qV8OFjochx89"
      },
      "execution_count": null,
      "outputs": []
    },
    {
      "cell_type": "code",
      "source": [
        "y_pred_proba = logreg_cv_best.predict_proba(X_test_check)[::, 1]"
      ],
      "metadata": {
        "id": "N00bPJ54O0Ii"
      },
      "execution_count": null,
      "outputs": []
    },
    {
      "cell_type": "code",
      "source": [
        "df_test = pd.DataFrame()\n",
        "df_test['index'] = X_test_checks['index'] \n",
        "df_test['target'] = y_pred_proba"
      ],
      "metadata": {
        "id": "a2HhUr8xWyHp"
      },
      "execution_count": null,
      "outputs": []
    },
    {
      "cell_type": "code",
      "source": [
        "df_test.to_csv('logreg.csv', index = False) "
      ],
      "metadata": {
        "id": "j6CwxkCjWih5"
      },
      "execution_count": null,
      "outputs": []
    },
    {
      "cell_type": "markdown",
      "metadata": {
        "id": "T5DIcoh7KDXn"
      },
      "source": [
        "### KNN"
      ]
    },
    {
      "cell_type": "markdown",
      "metadata": {
        "id": "x97KgHjSriS9"
      },
      "source": [
        "Hyperparameter tuning"
      ]
    },
    {
      "cell_type": "code",
      "execution_count": null,
      "metadata": {
        "id": "woDLANh1wBnE"
      },
      "outputs": [],
      "source": [
        "c_space = np.logspace(-5, 8, 15)"
      ]
    },
    {
      "cell_type": "code",
      "execution_count": null,
      "metadata": {
        "colab": {
          "base_uri": "https://localhost:8080/"
        },
        "id": "iUkHy-Xmu8_H",
        "outputId": "10a0c17d-f195-4484-f762-bdf639a4f407"
      },
      "outputs": [
        {
          "output_type": "execute_result",
          "data": {
            "text/plain": [
              "{'algorithm': 'brute', 'n_neighbors': 18, 'p': 1}"
            ]
          },
          "metadata": {},
          "execution_count": 259
        }
      ],
      "source": [
        "knn = KNeighborsClassifier()\n",
        "param_grid = {'n_neighbors': np.arange(1, 20),\n",
        "              'algorithm': ['auto', 'ball_tree', 'kd_tree', 'brute'],\n",
        "              'p': [1, 2]}\n",
        "knn_cv = RandomizedSearchCV(knn, param_grid, cv=5, random_state=12, refit=True)\n",
        "knn_cv.fit(X, y)\n",
        "knn_cv.best_params_"
      ]
    },
    {
      "cell_type": "code",
      "execution_count": null,
      "metadata": {
        "id": "1phwgFUq2yMt"
      },
      "outputs": [],
      "source": [
        "knn_cv_best = knn_cv.best_estimator_ "
      ]
    },
    {
      "cell_type": "markdown",
      "source": [
        "Prediction of X_test"
      ],
      "metadata": {
        "id": "r-ZFOPCHziog"
      }
    },
    {
      "cell_type": "code",
      "execution_count": null,
      "metadata": {
        "id": "0XW406p9uun0"
      },
      "outputs": [],
      "source": [
        "knn_cv_best.fit(X_train, y_train)\n",
        "y_pred_proba_tr = knn_cv_best.predict_proba(X_test)[::, 1]"
      ]
    },
    {
      "cell_type": "markdown",
      "source": [
        "ROC Curve"
      ],
      "metadata": {
        "id": "Dsz9-Sgp0AM-"
      }
    },
    {
      "cell_type": "code",
      "execution_count": null,
      "metadata": {
        "colab": {
          "base_uri": "https://localhost:8080/",
          "height": 316
        },
        "id": "louCV41K8rYA",
        "outputId": "f03e7918-b808-4cc8-b395-3b10d5e3343f"
      },
      "outputs": [
        {
          "output_type": "execute_result",
          "data": {
            "text/plain": [
              "Text(0.5, 1.0, 'Random Forest ROC Curve')"
            ]
          },
          "metadata": {},
          "execution_count": 262
        },
        {
          "output_type": "display_data",
          "data": {
            "image/png": "[encoded data removed]",
            "text/plain": [
              "<Figure size 432x288 with 1 Axes>"
            ]
          },
          "metadata": {}
        }
      ],
      "source": [
        "fpr, tpr, thresholds = roc_curve(y_test, y_pred_proba_tr)\n",
        "plt.plot([0,1], [0,1], 'k--')\n",
        "\n",
        "for x, y, txt in zip(fpr, tpr, thresholds):\n",
        "    plt.annotate(np.round(txt,2), (x, y-0.04))\n",
        "\n",
        "plt.plot(fpr, tpr, label='Random Forest Curve')\n",
        "plt.xlabel('False Positive Rate')\n",
        "plt.ylabel('True Positive Rate')\n",
        "plt.title('Random Forest ROC Curve')"
      ]
    },
    {
      "cell_type": "code",
      "execution_count": null,
      "metadata": {
        "id": "JhD6eXR6AJ6B"
      },
      "outputs": [],
      "source": [
        "y_pred_tr_w_thr = set_threshold(0.17, y_pred_proba_tr)"
      ]
    },
    {
      "cell_type": "markdown",
      "source": [
        "Model evaluation"
      ],
      "metadata": {
        "id": "oYJxNOuBzm1K"
      }
    },
    {
      "cell_type": "code",
      "execution_count": null,
      "metadata": {
        "colab": {
          "base_uri": "https://localhost:8080/"
        },
        "id": "Bf1MTAOxZHOX",
        "outputId": "b6f16958-ca32-4ace-f9c3-629a041054a3"
      },
      "outputs": [
        {
          "output_type": "stream",
          "name": "stdout",
          "text": [
            "              precision    recall  f1-score   support\n",
            "\n",
            "           0       0.97      0.82      0.89     28938\n",
            "           1       0.21      0.68      0.32      2040\n",
            "\n",
            "    accuracy                           0.81     30978\n",
            "   macro avg       0.59      0.75      0.61     30978\n",
            "weighted avg       0.92      0.81      0.85     30978\n",
            "\n"
          ]
        }
      ],
      "source": [
        "print(classification_report(y_test, y_pred_tr_w_thr))"
      ]
    },
    {
      "cell_type": "code",
      "execution_count": null,
      "metadata": {
        "colab": {
          "base_uri": "https://localhost:8080/"
        },
        "id": "fXzd_MPcruDj",
        "outputId": "9fd8c736-16da-4f53-bb16-7e8d9d6c5eec"
      },
      "outputs": [
        {
          "output_type": "stream",
          "name": "stdout",
          "text": [
            "AUC =  0.71\n"
          ]
        }
      ],
      "source": [
        "print('AUC = ', round(roc_auc_score(y_test, y_pred_tr_w_thr), 2))\n",
        "precision, recall, thresholds = precision_recall_curve(y_test, y_pred_tr_w_thr)"
      ]
    },
    {
      "cell_type": "markdown",
      "source": [
        "Precision Recall Curve"
      ],
      "metadata": {
        "id": "SLmBda0v0C7H"
      }
    },
    {
      "cell_type": "code",
      "source": [
        "fig, ax = plt.subplots()\n",
        "ax.plot(recall, precision, c='r')\n",
        "ax.plot([0, 1], [0, 1], linestyle='--', color='black')\n",
        "\n",
        "ax.set_title('PR-curve')\n",
        "ax.set_xlabel('Precision')\n",
        "ax.set_ylabel('Recall')"
      ],
      "metadata": {
        "colab": {
          "base_uri": "https://localhost:8080/",
          "height": 316
        },
        "id": "jQrSoNduK6RJ",
        "outputId": "31bfb2de-756b-4d71-984a-cd933bfa6b1b"
      },
      "execution_count": null,
      "outputs": [
        {
          "output_type": "execute_result",
          "data": {
            "text/plain": [
              "Text(0, 0.5, 'Recall')"
            ]
          },
          "metadata": {},
          "execution_count": 284
        },
        {
          "output_type": "display_data",
          "data": {
            "image/png": "[encoded data removed]",
            "text/plain": [
              "<Figure size 432x288 with 1 Axes>"
            ]
          },
          "metadata": {}
        }
      ]
    },
    {
      "cell_type": "markdown",
      "source": [
        "Prediction of X_test on Kaggle\n"
      ],
      "metadata": {
        "id": "qGY-6_8QMI7h"
      }
    },
    {
      "cell_type": "code",
      "source": [
        "y_pred_proba = knn_cv_best.predict_proba(X_test_check)[::, 1]"
      ],
      "metadata": {
        "id": "8s0VlD_lMKya"
      },
      "execution_count": null,
      "outputs": []
    },
    {
      "cell_type": "code",
      "source": [
        "df_test = pd.DataFrame()\n",
        "df_test['index'] = X_test_checks['index'] \n",
        "df_test['target'] = y_pred_proba"
      ],
      "metadata": {
        "id": "8tBHJG-IidsA"
      },
      "execution_count": null,
      "outputs": []
    },
    {
      "cell_type": "code",
      "source": [
        "df_test.to_csv('knn.csv', index = False) "
      ],
      "metadata": {
        "id": "ofvpxUPcihpQ"
      },
      "execution_count": null,
      "outputs": []
    },
    {
      "cell_type": "markdown",
      "metadata": {
        "id": "1FoSxBSxxI3i"
      },
      "source": [
        "### Decision Tree"
      ]
    },
    {
      "cell_type": "markdown",
      "metadata": {
        "id": "yINV634awVJS"
      },
      "source": [
        "Hyperparameters Tuning"
      ]
    },
    {
      "cell_type": "code",
      "execution_count": null,
      "metadata": {
        "id": "hZQk7icCxJgJ"
      },
      "outputs": [],
      "source": [
        "param_dist = {\"max_depth\": [3, None],\n",
        "              \"max_features\": randint(1, 11),\n",
        "              \"min_samples_leaf\": randint(1, 11),\n",
        "              \"criterion\": [\"gini\", \"entropy\"]}"
      ]
    },
    {
      "cell_type": "code",
      "execution_count": null,
      "metadata": {
        "colab": {
          "base_uri": "https://localhost:8080/"
        },
        "id": "2ADKifGcxqLp",
        "outputId": "f2c75048-95e1-41ff-a9d5-4dbe143a3239"
      },
      "outputs": [
        {
          "output_type": "execute_result",
          "data": {
            "text/plain": [
              "RandomizedSearchCV(cv=5, estimator=DecisionTreeClassifier(),\n",
              "                   param_distributions={'criterion': ['gini', 'entropy'],\n",
              "                                        'max_depth': [3, None],\n",
              "                                        'max_features': <scipy.stats._distn_infrastructure.rv_frozen object at 0x7f88287fe250>,\n",
              "                                        'min_samples_leaf': <scipy.stats._distn_infrastructure.rv_frozen object at 0x7f882882f790>},\n",
              "                   random_state=33)"
            ]
          },
          "metadata": {},
          "execution_count": 324
        }
      ],
      "source": [
        "tree = DecisionTreeClassifier()\n",
        "tree_cv = RandomizedSearchCV(tree, param_dist, cv=5, random_state=33, refit=True)\n",
        "tree_cv.fit(X, y)"
      ]
    },
    {
      "cell_type": "code",
      "execution_count": null,
      "metadata": {
        "colab": {
          "base_uri": "https://localhost:8080/"
        },
        "id": "obibsI--Hve_",
        "outputId": "12a8e4b7-35a0-4bf2-e05d-237de3f312c6"
      },
      "outputs": [
        {
          "output_type": "stream",
          "name": "stdout",
          "text": [
            "Tuned Decision Tree Parameters: {'criterion': 'gini', 'max_depth': 3, 'max_features': 7, 'min_samples_leaf': 7}\n",
            "Best score is 0.94\n"
          ]
        }
      ],
      "source": [
        "print(\"Tuned Decision Tree Parameters: {}\".format(tree_cv.best_params_))\n",
        "print(\"Best score is {}\".format(round(tree_cv.best_score_, 2)))"
      ]
    },
    {
      "cell_type": "code",
      "source": [
        "tree_best = DecisionTreeClassifier(criterion='gini', max_depth= 3, max_features=7, min_samples_leaf=7)"
      ],
      "metadata": {
        "id": "zY1POqZeiy9K"
      },
      "execution_count": null,
      "outputs": []
    },
    {
      "cell_type": "code",
      "source": [
        "tree_best.fit(X_train, y_train)"
      ],
      "metadata": {
        "colab": {
          "base_uri": "https://localhost:8080/"
        },
        "id": "-jKdwWqIjO3O",
        "outputId": "27947d9b-394d-466b-f7b5-31baea9b2a47"
      },
      "execution_count": null,
      "outputs": [
        {
          "output_type": "execute_result",
          "data": {
            "text/plain": [
              "DecisionTreeClassifier(max_depth=3, max_features=7, min_samples_leaf=7)"
            ]
          },
          "metadata": {},
          "execution_count": 292
        }
      ]
    },
    {
      "cell_type": "code",
      "execution_count": null,
      "metadata": {
        "id": "kHMqRUbYQgfW"
      },
      "outputs": [],
      "source": [
        "tree_best = tree_cv.best_estimator_"
      ]
    },
    {
      "cell_type": "markdown",
      "source": [
        "Prediction of X_test\n"
      ],
      "metadata": {
        "id": "jJn56lb3zWWE"
      }
    },
    {
      "cell_type": "code",
      "execution_count": null,
      "metadata": {
        "id": "ei9H8bB9Qx41"
      },
      "outputs": [],
      "source": [
        "y_pred = tree_best.predict(X_test)\n",
        "y_pred_proba = tree_best.predict_proba(X_test)[:,1]"
      ]
    },
    {
      "cell_type": "code",
      "execution_count": null,
      "metadata": {
        "colab": {
          "base_uri": "https://localhost:8080/",
          "height": 316
        },
        "id": "9Ri9T7L5qlec",
        "outputId": "84df6a5f-54c6-4ffc-fae8-74cbbcc74c04"
      },
      "outputs": [
        {
          "output_type": "execute_result",
          "data": {
            "text/plain": [
              "Text(0.5, 1.0, 'Decision Tree ROC Curve')"
            ]
          },
          "metadata": {},
          "execution_count": 294
        },
        {
          "output_type": "display_data",
          "data": {
            "image/png": "[encoded data removed]",
            "text/plain": [
              "<Figure size 432x288 with 1 Axes>"
            ]
          },
          "metadata": {}
        }
      ],
      "source": [
        "fpr, tpr, thresholds = roc_curve(y_test, y_pred_proba)\n",
        "plt.plot([0,1], [0,1], 'k--')\n",
        "\n",
        "for x, y, txt in zip(fpr, tpr, thresholds):\n",
        "    plt.annotate(np.round(txt,2), (x, y-0.04))\n",
        "\n",
        "plt.plot(fpr, tpr, label='Decision Tree')\n",
        "plt.xlabel('False Positive Rate')\n",
        "plt.ylabel('True Positive Rate')\n",
        "plt.title('Decision Tree ROC Curve')"
      ]
    },
    {
      "cell_type": "code",
      "execution_count": null,
      "metadata": {
        "id": "mUfLX2XfrW1f"
      },
      "outputs": [],
      "source": [
        "y_pred_w_threshold = set_threshold(0.11, y_pred_proba)"
      ]
    },
    {
      "cell_type": "markdown",
      "source": [
        "Model evaluation"
      ],
      "metadata": {
        "id": "Wn0zMBr5zZ0j"
      }
    },
    {
      "cell_type": "code",
      "execution_count": null,
      "metadata": {
        "colab": {
          "base_uri": "https://localhost:8080/"
        },
        "id": "fAWauRXyrhCR",
        "outputId": "9ab10bce-0793-4022-a54b-4c5f20110c17"
      },
      "outputs": [
        {
          "output_type": "stream",
          "name": "stdout",
          "text": [
            "              precision    recall  f1-score   support\n",
            "\n",
            "           0       0.98      0.79      0.88     28938\n",
            "           1       0.20      0.72      0.31      2040\n",
            "\n",
            "    accuracy                           0.79     30978\n",
            "   macro avg       0.59      0.76      0.59     30978\n",
            "weighted avg       0.92      0.79      0.84     30978\n",
            "\n"
          ]
        }
      ],
      "source": [
        "print(classification_report(y_test, y_pred_w_threshold)) "
      ]
    },
    {
      "cell_type": "code",
      "execution_count": null,
      "metadata": {
        "colab": {
          "base_uri": "https://localhost:8080/"
        },
        "id": "FfqYSdhfJ3jS",
        "outputId": "7e15d36c-aa20-4446-b3a1-d8dbfd9eca83"
      },
      "outputs": [
        {
          "output_type": "stream",
          "name": "stdout",
          "text": [
            "0.76\n"
          ]
        }
      ],
      "source": [
        "print(round(roc_auc_score(y_test, y_pred_w_threshold), 2))"
      ]
    },
    {
      "cell_type": "markdown",
      "source": [
        "Prediction of X_test on Kaggle\n"
      ],
      "metadata": {
        "id": "6AkF1XUVPqIJ"
      }
    },
    {
      "cell_type": "code",
      "source": [
        "y_pred_proba = tree_best.predict_proba(X_test_check)[:, 1]"
      ],
      "metadata": {
        "id": "i8reDpp2Pq_b"
      },
      "execution_count": null,
      "outputs": []
    },
    {
      "cell_type": "code",
      "source": [
        "df_test = pd.DataFrame()\n",
        "df_test['index'] = X_test_checks['index'] \n",
        "df_test['target'] = y_pred_proba"
      ],
      "metadata": {
        "id": "lFkHLxcMjh6-"
      },
      "execution_count": null,
      "outputs": []
    },
    {
      "cell_type": "code",
      "source": [
        "df_test.to_csv('tree.csv', index = False) "
      ],
      "metadata": {
        "id": "9wUUQBTgjjJt"
      },
      "execution_count": null,
      "outputs": []
    },
    {
      "cell_type": "markdown",
      "metadata": {
        "id": "v0AEXd4nDv07"
      },
      "source": [
        "### Random Forest"
      ]
    },
    {
      "cell_type": "markdown",
      "metadata": {
        "id": "IFUA7PqOuoC2"
      },
      "source": [
        "Hyperparameters Tuning"
      ]
    },
    {
      "cell_type": "code",
      "execution_count": null,
      "metadata": {
        "id": "tzoMM-nqsDyt"
      },
      "outputs": [],
      "source": [
        "param_dist = {\"max_depth\": [3, None],\n",
        "              \"max_features\": randint(1, 11),\n",
        "              \"min_samples_leaf\": randint(1, 11),\n",
        "              \"criterion\": [\"gini\", \"entropy\"],\n",
        "              'max_depth': randint(1, 11)}\n",
        "              #'n_estimators': np.arange(300, 1000, 100)}"
      ]
    },
    {
      "cell_type": "code",
      "execution_count": null,
      "metadata": {
        "colab": {
          "base_uri": "https://localhost:8080/"
        },
        "id": "wvKmKsrqu-Ig",
        "outputId": "3bcd2661-1ef4-4085-dffb-c0491be883fb"
      },
      "outputs": [
        {
          "output_type": "execute_result",
          "data": {
            "text/plain": [
              "RandomizedSearchCV(cv=5, estimator=RandomForestClassifier(random_state=5),\n",
              "                   param_distributions={'criterion': ['gini', 'entropy'],\n",
              "                                        'max_depth': <scipy.stats._distn_infrastructure.rv_frozen object at 0x7f2d88593750>,\n",
              "                                        'max_features': <scipy.stats._distn_infrastructure.rv_frozen object at 0x7f2d88593550>,\n",
              "                                        'min_samples_leaf': <scipy.stats._distn_infrastructure.rv_frozen object at 0x7f2d885935d0>},\n",
              "                   random_state=0)"
            ]
          },
          "metadata": {},
          "execution_count": 340
        }
      ],
      "source": [
        "rf_clf_cv = RandomizedSearchCV(rf_clf, param_dist, cv=5, random_state=0, refit=True)\n",
        "rf_clf_cv.fit(X, y)"
      ]
    },
    {
      "cell_type": "code",
      "execution_count": null,
      "metadata": {
        "id": "lmOZ9FKhZoK1"
      },
      "outputs": [],
      "source": [
        "rf_clf_cv_best = rf_clf_cv.best_estimator_"
      ]
    },
    {
      "cell_type": "markdown",
      "source": [
        "Prediction of X_test \n"
      ],
      "metadata": {
        "id": "ub6Rp4FQzEgW"
      }
    },
    {
      "cell_type": "code",
      "execution_count": null,
      "metadata": {
        "id": "xn2us6sTZp7w"
      },
      "outputs": [],
      "source": [
        "y_pred_prob_cv = rf_clf_cv_best.predict_proba(X_test)[:, 1] "
      ]
    },
    {
      "cell_type": "code",
      "execution_count": null,
      "metadata": {
        "id": "l-Pix4eqvYfn",
        "colab": {
          "base_uri": "https://localhost:8080/"
        },
        "outputId": "064c2ca5-b2e7-4c1a-fdbc-0a847178ba7d"
      },
      "outputs": [
        {
          "output_type": "stream",
          "name": "stdout",
          "text": [
            "Tuned Random Forest Parameters: {'criterion': 'entropy', 'max_depth': 7, 'max_features': 9, 'min_samples_leaf': 9}\n",
            "Best score is 0.94\n"
          ]
        }
      ],
      "source": [
        "print(\"Tuned Random Forest Parameters: {}\".format(rf_clf_cv.best_params_))\n",
        "print(\"Best score is {}\".format(round(rf_clf_cv.best_score_, 2)))"
      ]
    },
    {
      "cell_type": "markdown",
      "metadata": {
        "id": "u2VXU4Wv_oNP"
      },
      "source": [
        "ROC Curve"
      ]
    },
    {
      "cell_type": "code",
      "execution_count": null,
      "metadata": {
        "id": "-G3lhDMC93Mc",
        "colab": {
          "base_uri": "https://localhost:8080/",
          "height": 316
        },
        "outputId": "2b8b0192-d660-4652-9e2c-176ba98f77c5"
      },
      "outputs": [
        {
          "output_type": "execute_result",
          "data": {
            "text/plain": [
              "Text(0.5, 1.0, 'Random Forest ROC Curve')"
            ]
          },
          "metadata": {},
          "execution_count": 344
        },
        {
          "output_type": "display_data",
          "data": {
            "image/png": "[encoded data removed]",
            "text/plain": [
              "<Figure size 432x288 with 1 Axes>"
            ]
          },
          "metadata": {}
        }
      ],
      "source": [
        "fpr, tpr, thresholds = roc_curve(y_test, y_pred_prob_cv)\n",
        "plt.plot([0,1], [0,1], 'k--')\n",
        "\n",
        "for x, y, txt in zip(fpr[::500], tpr[::500], thresholds[::500]):\n",
        "    plt.annotate(np.round(txt,2), (x, y-0.04))\n",
        "\n",
        "plt.plot(fpr, tpr, label='Random Forest Curve')\n",
        "plt.xlabel('False Positive Rate')\n",
        "plt.ylabel('True Positive Rate')\n",
        "plt.title('Random Forest ROC Curve')"
      ]
    },
    {
      "cell_type": "code",
      "execution_count": null,
      "metadata": {
        "id": "OLAxGWIP-ZpW"
      },
      "outputs": [],
      "source": [
        "y_pred_cv_w_threshold = set_threshold(0.06, y_pred_prob_cv)"
      ]
    },
    {
      "cell_type": "markdown",
      "source": [
        " Model evaluation "
      ],
      "metadata": {
        "id": "u_8nyjPyy-zp"
      }
    },
    {
      "cell_type": "code",
      "execution_count": null,
      "metadata": {
        "id": "UXZ83oFG-pb7",
        "colab": {
          "base_uri": "https://localhost:8080/"
        },
        "outputId": "3b6f7ee5-f28c-42ac-c5d3-6cce4a498beb"
      },
      "outputs": [
        {
          "output_type": "stream",
          "name": "stdout",
          "text": [
            "              precision    recall  f1-score   support\n",
            "\n",
            "           0       0.98      0.77      0.86     28938\n",
            "           1       0.20      0.81      0.32      2040\n",
            "\n",
            "    accuracy                           0.77     30978\n",
            "   macro avg       0.59      0.79      0.59     30978\n",
            "weighted avg       0.93      0.77      0.83     30978\n",
            "\n"
          ]
        }
      ],
      "source": [
        "print(classification_report(y_test, y_pred_cv_w_threshold))"
      ]
    },
    {
      "cell_type": "code",
      "source": [
        "print('ROC-AUC =', round(roc_auc_score(y_test, y_pred_cv_w_threshold), 2))"
      ],
      "metadata": {
        "id": "LKtdYPd2Ro99",
        "colab": {
          "base_uri": "https://localhost:8080/"
        },
        "outputId": "5d2104ca-0555-47a4-e414-4e39d36a5139"
      },
      "execution_count": null,
      "outputs": [
        {
          "output_type": "stream",
          "name": "stdout",
          "text": [
            "AUC = 0.79\n"
          ]
        }
      ]
    },
    {
      "cell_type": "markdown",
      "source": [
        "Prediction of X_test on Kaggle\n"
      ],
      "metadata": {
        "id": "ijQe75xdp-yE"
      }
    },
    {
      "cell_type": "code",
      "source": [
        "y_pred_proba = tree_best.predict_proba(X_test_check)[:, 1]"
      ],
      "metadata": {
        "id": "YFgmXOePRMlj",
        "colab": {
          "base_uri": "https://localhost:8080/"
        },
        "outputId": "99bab5a6-b78d-4dc4-89cb-6d5bdada67f1"
      },
      "execution_count": null,
      "outputs": [
        {
          "output_type": "stream",
          "name": "stdout",
          "text": [
            "MSE = 0.31\n"
          ]
        }
      ]
    },
    {
      "cell_type": "code",
      "source": [
        "df_test = pd.DataFrame()\n",
        "df_test['index'] = X_test_checks['index'] \n",
        "df_test['target'] = y_pred_proba"
      ],
      "metadata": {
        "id": "dQc2iRqvqQis"
      },
      "execution_count": null,
      "outputs": []
    },
    {
      "cell_type": "code",
      "source": [
        "df_test.to_csv('rf.csv', index = False) "
      ],
      "metadata": {
        "id": "PYZeb1e9qRfL"
      },
      "execution_count": null,
      "outputs": []
    },
    {
      "cell_type": "markdown",
      "metadata": {
        "id": "6t4GI4_UYDnY"
      },
      "source": [
        "### CatBoost "
      ]
    },
    {
      "cell_type": "code",
      "execution_count": null,
      "metadata": {
        "id": "ThBhPUNRYCfc",
        "colab": {
          "base_uri": "https://localhost:8080/"
        },
        "outputId": "ce431ce4-e571-4edd-cb30-afa110f1539a"
      },
      "outputs": [
        {
          "output_type": "stream",
          "name": "stdout",
          "text": [
            "Collecting catboost\n",
            "  Downloading catboost-1.0.3-cp37-none-manylinux1_x86_64.whl (76.3 MB)\n",
            "\u001b[K     |████████████████████████████████| 76.3 MB 1.1 MB/s \n",
            "\u001b[?25hRequirement already satisfied: graphviz in /usr/local/lib/python3.7/dist-packages (from catboost) (0.10.1)\n",
            "Requirement already satisfied: six in /usr/local/lib/python3.7/dist-packages (from catboost) (1.15.0)\n",
            "Requirement already satisfied: scipy in /usr/local/lib/python3.7/dist-packages (from catboost) (1.4.1)\n",
            "Requirement already satisfied: plotly in /usr/local/lib/python3.7/dist-packages (from catboost) (4.4.1)\n",
            "Requirement already satisfied: matplotlib in /usr/local/lib/python3.7/dist-packages (from catboost) (3.2.2)\n",
            "Requirement already satisfied: numpy>=1.16.0 in /usr/local/lib/python3.7/dist-packages (from catboost) (1.19.5)\n",
            "Requirement already satisfied: pandas>=0.24.0 in /usr/local/lib/python3.7/dist-packages (from catboost) (1.1.5)\n",
            "Requirement already satisfied: python-dateutil>=2.7.3 in /usr/local/lib/python3.7/dist-packages (from pandas>=0.24.0->catboost) (2.8.2)\n",
            "Requirement already satisfied: pytz>=2017.2 in /usr/local/lib/python3.7/dist-packages (from pandas>=0.24.0->catboost) (2018.9)\n",
            "Requirement already satisfied: cycler>=0.10 in /usr/local/lib/python3.7/dist-packages (from matplotlib->catboost) (0.11.0)\n",
            "Requirement already satisfied: kiwisolver>=1.0.1 in /usr/local/lib/python3.7/dist-packages (from matplotlib->catboost) (1.3.2)\n",
            "Requirement already satisfied: pyparsing!=2.0.4,!=2.1.2,!=2.1.6,>=2.0.1 in /usr/local/lib/python3.7/dist-packages (from matplotlib->catboost) (3.0.6)\n",
            "Requirement already satisfied: retrying>=1.3.3 in /usr/local/lib/python3.7/dist-packages (from plotly->catboost) (1.3.3)\n",
            "Installing collected packages: catboost\n",
            "Successfully installed catboost-1.0.3\n"
          ]
        }
      ],
      "source": [
        "!pip install catboost"
      ]
    },
    {
      "cell_type": "code",
      "source": [
        "from catboost import CatBoostClassifier"
      ],
      "metadata": {
        "id": "onILzL8kSIO7"
      },
      "execution_count": null,
      "outputs": []
    },
    {
      "cell_type": "markdown",
      "source": [
        "Feature Tuning"
      ],
      "metadata": {
        "id": "5bzJn_zDrMmh"
      }
    },
    {
      "cell_type": "code",
      "source": [
        "model = CatBoostClassifier()\n",
        "param_dist = {'depth'         : randint(4, 10),\n",
        "              'learning_rate' : uniform(),\n",
        "              'iterations'    : randint(10, 100),\n",
        "              'l2_leaf_reg'   : randint(1, 100)}\n",
        "    \n",
        "catboost_cv = RandomizedSearchCV(estimator=model, param_distributions = param_dist, \n",
        "                               cv = 5, n_iter = 10, n_jobs=-1, refit=True)\n",
        "catboost_cv.fit(X_train, y_train)"
      ],
      "metadata": {
        "id": "ahgiUJf2SLzZ",
        "colab": {
          "base_uri": "https://localhost:8080/"
        },
        "outputId": "c2a117fa-1424-48c7-f872-7b34f8481045"
      },
      "execution_count": null,
      "outputs": [
        {
          "output_type": "stream",
          "name": "stdout",
          "text": [
            "0:\tlearn: 0.5965009\ttotal: 64.3ms\tremaining: 5.59s\n",
            "1:\tlearn: 0.5219936\ttotal: 76.3ms\tremaining: 3.28s\n",
            "2:\tlearn: 0.4639517\ttotal: 85.1ms\tremaining: 2.41s\n",
            "3:\tlearn: 0.4160928\ttotal: 95.1ms\tremaining: 2s\n",
            "4:\tlearn: 0.3773833\ttotal: 107ms\tremaining: 1.77s\n",
            "5:\tlearn: 0.3452266\ttotal: 117ms\tremaining: 1.6s\n",
            "6:\tlearn: 0.3191134\ttotal: 127ms\tremaining: 1.47s\n",
            "7:\tlearn: 0.2967063\ttotal: 137ms\tremaining: 1.37s\n",
            "8:\tlearn: 0.2784265\ttotal: 148ms\tremaining: 1.3s\n",
            "9:\tlearn: 0.2629723\ttotal: 158ms\tremaining: 1.23s\n",
            "10:\tlearn: 0.2497784\ttotal: 168ms\tremaining: 1.18s\n",
            "11:\tlearn: 0.2385653\ttotal: 178ms\tremaining: 1.13s\n",
            "12:\tlearn: 0.2293954\ttotal: 189ms\tremaining: 1.09s\n",
            "13:\tlearn: 0.2218987\ttotal: 200ms\tremaining: 1.06s\n",
            "14:\tlearn: 0.2152779\ttotal: 210ms\tremaining: 1.02s\n",
            "15:\tlearn: 0.2096723\ttotal: 220ms\tremaining: 989ms\n",
            "16:\tlearn: 0.2046627\ttotal: 230ms\tremaining: 961ms\n",
            "17:\tlearn: 0.2006915\ttotal: 240ms\tremaining: 933ms\n",
            "18:\tlearn: 0.1974655\ttotal: 250ms\tremaining: 907ms\n",
            "19:\tlearn: 0.1945663\ttotal: 265ms\tremaining: 903ms\n",
            "20:\tlearn: 0.1920776\ttotal: 275ms\tremaining: 878ms\n",
            "21:\tlearn: 0.1900815\ttotal: 287ms\tremaining: 860ms\n",
            "22:\tlearn: 0.1881692\ttotal: 297ms\tremaining: 841ms\n",
            "23:\tlearn: 0.1864322\ttotal: 308ms\tremaining: 821ms\n",
            "24:\tlearn: 0.1852119\ttotal: 319ms\tremaining: 804ms\n",
            "25:\tlearn: 0.1842265\ttotal: 343ms\tremaining: 818ms\n",
            "26:\tlearn: 0.1832093\ttotal: 353ms\tremaining: 798ms\n",
            "27:\tlearn: 0.1823149\ttotal: 363ms\tremaining: 778ms\n",
            "28:\tlearn: 0.1814296\ttotal: 373ms\tremaining: 760ms\n",
            "29:\tlearn: 0.1808819\ttotal: 384ms\tremaining: 742ms\n",
            "30:\tlearn: 0.1802178\ttotal: 395ms\tremaining: 726ms\n",
            "31:\tlearn: 0.1798105\ttotal: 404ms\tremaining: 708ms\n",
            "32:\tlearn: 0.1793900\ttotal: 415ms\tremaining: 691ms\n",
            "33:\tlearn: 0.1789235\ttotal: 425ms\tremaining: 675ms\n",
            "34:\tlearn: 0.1785147\ttotal: 436ms\tremaining: 660ms\n",
            "35:\tlearn: 0.1781243\ttotal: 446ms\tremaining: 644ms\n",
            "36:\tlearn: 0.1778197\ttotal: 456ms\tremaining: 629ms\n",
            "37:\tlearn: 0.1776440\ttotal: 470ms\tremaining: 618ms\n",
            "38:\tlearn: 0.1773951\ttotal: 480ms\tremaining: 603ms\n",
            "39:\tlearn: 0.1772469\ttotal: 489ms\tremaining: 587ms\n",
            "40:\tlearn: 0.1771102\ttotal: 499ms\tremaining: 572ms\n",
            "41:\tlearn: 0.1769507\ttotal: 509ms\tremaining: 557ms\n",
            "42:\tlearn: 0.1768199\ttotal: 519ms\tremaining: 543ms\n",
            "43:\tlearn: 0.1766274\ttotal: 530ms\tremaining: 530ms\n",
            "44:\tlearn: 0.1765173\ttotal: 540ms\tremaining: 516ms\n",
            "45:\tlearn: 0.1763633\ttotal: 549ms\tremaining: 502ms\n",
            "46:\tlearn: 0.1762439\ttotal: 560ms\tremaining: 488ms\n",
            "47:\tlearn: 0.1761340\ttotal: 570ms\tremaining: 475ms\n",
            "48:\tlearn: 0.1760631\ttotal: 580ms\tremaining: 462ms\n",
            "49:\tlearn: 0.1760037\ttotal: 589ms\tremaining: 448ms\n",
            "50:\tlearn: 0.1758949\ttotal: 599ms\tremaining: 434ms\n",
            "51:\tlearn: 0.1758329\ttotal: 609ms\tremaining: 422ms\n",
            "52:\tlearn: 0.1757849\ttotal: 619ms\tremaining: 409ms\n",
            "53:\tlearn: 0.1757661\ttotal: 629ms\tremaining: 396ms\n",
            "54:\tlearn: 0.1756797\ttotal: 639ms\tremaining: 383ms\n",
            "55:\tlearn: 0.1755873\ttotal: 649ms\tremaining: 371ms\n",
            "56:\tlearn: 0.1755060\ttotal: 658ms\tremaining: 358ms\n",
            "57:\tlearn: 0.1754857\ttotal: 668ms\tremaining: 346ms\n",
            "58:\tlearn: 0.1754607\ttotal: 680ms\tremaining: 334ms\n",
            "59:\tlearn: 0.1754344\ttotal: 690ms\tremaining: 322ms\n",
            "60:\tlearn: 0.1753717\ttotal: 699ms\tremaining: 310ms\n",
            "61:\tlearn: 0.1753231\ttotal: 709ms\tremaining: 297ms\n",
            "62:\tlearn: 0.1752090\ttotal: 720ms\tremaining: 286ms\n",
            "63:\tlearn: 0.1751821\ttotal: 728ms\tremaining: 273ms\n",
            "64:\tlearn: 0.1751248\ttotal: 738ms\tremaining: 261ms\n",
            "65:\tlearn: 0.1750648\ttotal: 748ms\tremaining: 249ms\n",
            "66:\tlearn: 0.1750024\ttotal: 758ms\tremaining: 237ms\n",
            "67:\tlearn: 0.1749392\ttotal: 767ms\tremaining: 226ms\n",
            "68:\tlearn: 0.1749352\ttotal: 776ms\tremaining: 214ms\n",
            "69:\tlearn: 0.1749097\ttotal: 785ms\tremaining: 202ms\n",
            "70:\tlearn: 0.1749036\ttotal: 794ms\tremaining: 190ms\n",
            "71:\tlearn: 0.1748843\ttotal: 802ms\tremaining: 178ms\n",
            "72:\tlearn: 0.1748257\ttotal: 812ms\tremaining: 167ms\n",
            "73:\tlearn: 0.1747863\ttotal: 826ms\tremaining: 156ms\n",
            "74:\tlearn: 0.1747097\ttotal: 837ms\tremaining: 145ms\n",
            "75:\tlearn: 0.1746769\ttotal: 847ms\tremaining: 134ms\n",
            "76:\tlearn: 0.1746457\ttotal: 856ms\tremaining: 122ms\n",
            "77:\tlearn: 0.1746245\ttotal: 866ms\tremaining: 111ms\n",
            "78:\tlearn: 0.1745655\ttotal: 879ms\tremaining: 100ms\n",
            "79:\tlearn: 0.1745516\ttotal: 888ms\tremaining: 88.8ms\n",
            "80:\tlearn: 0.1745111\ttotal: 898ms\tremaining: 77.6ms\n",
            "81:\tlearn: 0.1744967\ttotal: 907ms\tremaining: 66.3ms\n",
            "82:\tlearn: 0.1744619\ttotal: 918ms\tremaining: 55.3ms\n",
            "83:\tlearn: 0.1744459\ttotal: 927ms\tremaining: 44.1ms\n",
            "84:\tlearn: 0.1743995\ttotal: 937ms\tremaining: 33.1ms\n",
            "85:\tlearn: 0.1743961\ttotal: 945ms\tremaining: 22ms\n",
            "86:\tlearn: 0.1743912\ttotal: 954ms\tremaining: 11ms\n",
            "87:\tlearn: 0.1743577\ttotal: 963ms\tremaining: 0us\n"
          ]
        },
        {
          "output_type": "execute_result",
          "data": {
            "text/plain": [
              "RandomizedSearchCV(cv=5,\n",
              "                   estimator=<catboost.core.CatBoostClassifier object at 0x7f2d7ca6de50>,\n",
              "                   n_jobs=-1,\n",
              "                   param_distributions={'depth': <scipy.stats._distn_infrastructure.rv_frozen object at 0x7f2d7ca6d6d0>,\n",
              "                                        'iterations': <scipy.stats._distn_infrastructure.rv_frozen object at 0x7f2d885fe050>,\n",
              "                                        'l2_leaf_reg': <scipy.stats._distn_infrastructure.rv_frozen object at 0x7f2d7ca6d110>,\n",
              "                                        'learning_rate': <scipy.stats._distn_infrastructure.rv_frozen object at 0x7f2d7ca6d350>})"
            ]
          },
          "metadata": {},
          "execution_count": 395
        }
      ]
    },
    {
      "cell_type": "code",
      "source": [
        "catboost_cv.fit(X_train, y_train)"
      ],
      "metadata": {
        "colab": {
          "base_uri": "https://localhost:8080/"
        },
        "id": "zI48q7Tmr495",
        "outputId": "1bd34a4e-4b0c-4fd3-b68b-628787305b82"
      },
      "execution_count": null,
      "outputs": [
        {
          "output_type": "stream",
          "name": "stdout",
          "text": [
            "0:\tlearn: 0.5250313\ttotal: 19.7ms\tremaining: 1.63s\n",
            "1:\tlearn: 0.4208993\ttotal: 36ms\tremaining: 1.48s\n",
            "2:\tlearn: 0.3521434\ttotal: 50.2ms\tremaining: 1.35s\n",
            "3:\tlearn: 0.3039016\ttotal: 58.5ms\tremaining: 1.17s\n",
            "4:\tlearn: 0.2694416\ttotal: 72.2ms\tremaining: 1.14s\n",
            "5:\tlearn: 0.2456845\ttotal: 87.1ms\tremaining: 1.13s\n",
            "6:\tlearn: 0.2280067\ttotal: 99.8ms\tremaining: 1.1s\n",
            "7:\tlearn: 0.2148435\ttotal: 113ms\tremaining: 1.08s\n",
            "8:\tlearn: 0.2051980\ttotal: 127ms\tremaining: 1.06s\n",
            "9:\tlearn: 0.1979717\ttotal: 142ms\tremaining: 1.05s\n",
            "10:\tlearn: 0.1929521\ttotal: 157ms\tremaining: 1.04s\n",
            "11:\tlearn: 0.1887415\ttotal: 171ms\tremaining: 1.03s\n",
            "12:\tlearn: 0.1855785\ttotal: 188ms\tremaining: 1.03s\n",
            "13:\tlearn: 0.1836334\ttotal: 202ms\tremaining: 1.01s\n",
            "14:\tlearn: 0.1821347\ttotal: 217ms\tremaining: 996ms\n",
            "15:\tlearn: 0.1809604\ttotal: 236ms\tremaining: 1s\n",
            "16:\tlearn: 0.1799248\ttotal: 251ms\tremaining: 988ms\n",
            "17:\tlearn: 0.1789753\ttotal: 266ms\tremaining: 975ms\n",
            "18:\tlearn: 0.1782824\ttotal: 280ms\tremaining: 959ms\n",
            "19:\tlearn: 0.1777837\ttotal: 295ms\tremaining: 943ms\n",
            "20:\tlearn: 0.1772305\ttotal: 310ms\tremaining: 929ms\n",
            "21:\tlearn: 0.1768078\ttotal: 325ms\tremaining: 915ms\n",
            "22:\tlearn: 0.1765522\ttotal: 338ms\tremaining: 896ms\n",
            "23:\tlearn: 0.1762678\ttotal: 351ms\tremaining: 878ms\n",
            "24:\tlearn: 0.1760728\ttotal: 365ms\tremaining: 861ms\n",
            "25:\tlearn: 0.1758189\ttotal: 379ms\tremaining: 846ms\n",
            "26:\tlearn: 0.1755548\ttotal: 393ms\tremaining: 830ms\n",
            "27:\tlearn: 0.1755279\ttotal: 405ms\tremaining: 811ms\n",
            "28:\tlearn: 0.1753190\ttotal: 420ms\tremaining: 796ms\n",
            "29:\tlearn: 0.1752872\ttotal: 437ms\tremaining: 786ms\n",
            "30:\tlearn: 0.1751587\ttotal: 449ms\tremaining: 768ms\n",
            "31:\tlearn: 0.1750237\ttotal: 463ms\tremaining: 752ms\n",
            "32:\tlearn: 0.1749691\ttotal: 477ms\tremaining: 737ms\n",
            "33:\tlearn: 0.1749630\ttotal: 491ms\tremaining: 722ms\n",
            "34:\tlearn: 0.1748630\ttotal: 504ms\tremaining: 705ms\n",
            "35:\tlearn: 0.1748329\ttotal: 517ms\tremaining: 689ms\n",
            "36:\tlearn: 0.1747288\ttotal: 530ms\tremaining: 674ms\n",
            "37:\tlearn: 0.1747161\ttotal: 543ms\tremaining: 657ms\n",
            "38:\tlearn: 0.1745314\ttotal: 559ms\tremaining: 645ms\n",
            "39:\tlearn: 0.1743995\ttotal: 574ms\tremaining: 632ms\n",
            "40:\tlearn: 0.1743133\ttotal: 587ms\tremaining: 616ms\n",
            "41:\tlearn: 0.1742571\ttotal: 601ms\tremaining: 601ms\n",
            "42:\tlearn: 0.1741674\ttotal: 614ms\tremaining: 586ms\n",
            "43:\tlearn: 0.1740620\ttotal: 628ms\tremaining: 571ms\n",
            "44:\tlearn: 0.1739722\ttotal: 645ms\tremaining: 559ms\n",
            "45:\tlearn: 0.1739023\ttotal: 662ms\tremaining: 547ms\n",
            "46:\tlearn: 0.1738328\ttotal: 676ms\tremaining: 532ms\n",
            "47:\tlearn: 0.1738202\ttotal: 689ms\tremaining: 516ms\n",
            "48:\tlearn: 0.1738130\ttotal: 701ms\tremaining: 501ms\n",
            "49:\tlearn: 0.1737193\ttotal: 714ms\tremaining: 486ms\n",
            "50:\tlearn: 0.1737114\ttotal: 727ms\tremaining: 470ms\n",
            "51:\tlearn: 0.1736440\ttotal: 741ms\tremaining: 456ms\n",
            "52:\tlearn: 0.1735664\ttotal: 756ms\tremaining: 442ms\n",
            "53:\tlearn: 0.1734323\ttotal: 769ms\tremaining: 427ms\n",
            "54:\tlearn: 0.1734223\ttotal: 781ms\tremaining: 412ms\n",
            "55:\tlearn: 0.1734119\ttotal: 793ms\tremaining: 397ms\n",
            "56:\tlearn: 0.1733954\ttotal: 806ms\tremaining: 382ms\n",
            "57:\tlearn: 0.1733809\ttotal: 818ms\tremaining: 367ms\n",
            "58:\tlearn: 0.1733678\ttotal: 831ms\tremaining: 352ms\n",
            "59:\tlearn: 0.1733607\ttotal: 848ms\tremaining: 339ms\n",
            "60:\tlearn: 0.1733507\ttotal: 861ms\tremaining: 325ms\n",
            "61:\tlearn: 0.1733452\ttotal: 875ms\tremaining: 311ms\n",
            "62:\tlearn: 0.1733399\ttotal: 890ms\tremaining: 297ms\n",
            "63:\tlearn: 0.1733348\ttotal: 902ms\tremaining: 282ms\n",
            "64:\tlearn: 0.1733298\ttotal: 915ms\tremaining: 267ms\n",
            "65:\tlearn: 0.1733250\ttotal: 928ms\tremaining: 253ms\n",
            "66:\tlearn: 0.1733206\ttotal: 943ms\tremaining: 239ms\n",
            "67:\tlearn: 0.1733163\ttotal: 969ms\tremaining: 228ms\n",
            "68:\tlearn: 0.1733119\ttotal: 983ms\tremaining: 214ms\n",
            "69:\tlearn: 0.1733078\ttotal: 1s\tremaining: 200ms\n",
            "70:\tlearn: 0.1733037\ttotal: 1.01s\tremaining: 186ms\n",
            "71:\tlearn: 0.1733000\ttotal: 1.03s\tremaining: 171ms\n",
            "72:\tlearn: 0.1732964\ttotal: 1.04s\tremaining: 156ms\n",
            "73:\tlearn: 0.1732927\ttotal: 1.05s\tremaining: 143ms\n",
            "74:\tlearn: 0.1732894\ttotal: 1.07s\tremaining: 128ms\n",
            "75:\tlearn: 0.1732864\ttotal: 1.08s\tremaining: 114ms\n",
            "76:\tlearn: 0.1731743\ttotal: 1.09s\tremaining: 99.4ms\n",
            "77:\tlearn: 0.1731711\ttotal: 1.1s\tremaining: 85ms\n",
            "78:\tlearn: 0.1730747\ttotal: 1.12s\tremaining: 70.8ms\n",
            "79:\tlearn: 0.1730716\ttotal: 1.13s\tremaining: 56.5ms\n",
            "80:\tlearn: 0.1730685\ttotal: 1.14s\tremaining: 42.4ms\n",
            "81:\tlearn: 0.1730655\ttotal: 1.16s\tremaining: 28.2ms\n",
            "82:\tlearn: 0.1730578\ttotal: 1.17s\tremaining: 14.1ms\n",
            "83:\tlearn: 0.1730549\ttotal: 1.18s\tremaining: 0us\n"
          ]
        },
        {
          "output_type": "execute_result",
          "data": {
            "text/plain": [
              "RandomizedSearchCV(cv=5,\n",
              "                   estimator=<catboost.core.CatBoostClassifier object at 0x7f2d7ca46e10>,\n",
              "                   n_jobs=-1,\n",
              "                   param_distributions={'depth': <scipy.stats._distn_infrastructure.rv_frozen object at 0x7f2d7ca46cd0>,\n",
              "                                        'iterations': <scipy.stats._distn_infrastructure.rv_frozen object at 0x7f2d7ca6d150>,\n",
              "                                        'l2_leaf_reg': <scipy.stats._distn_infrastructure.rv_frozen object at 0x7f2d7ca60650>,\n",
              "                                        'learning_rate': <scipy.stats._distn_infrastructure.rv_frozen object at 0x7f2d7ca46e50>})"
            ]
          },
          "metadata": {},
          "execution_count": 398
        }
      ]
    },
    {
      "cell_type": "code",
      "source": [
        "catboost_cv_best = catboost_cv.best_estimator_"
      ],
      "metadata": {
        "id": "Q0FfPfZJq-dK"
      },
      "execution_count": null,
      "outputs": []
    },
    {
      "cell_type": "markdown",
      "source": [
        "Prediction of X_test"
      ],
      "metadata": {
        "id": "aQGDlfg2yJ2f"
      }
    },
    {
      "cell_type": "code",
      "source": [
        "y_pred = catboost_cv_best.predict_proba(X_test)[::, 1]"
      ],
      "metadata": {
        "id": "f5HBrk0DtxQq"
      },
      "execution_count": null,
      "outputs": []
    },
    {
      "cell_type": "markdown",
      "source": [
        "ROC-Curve"
      ],
      "metadata": {
        "id": "CofG9JUjyGJ7"
      }
    },
    {
      "cell_type": "code",
      "source": [
        "fpr, tpr, thresholds = roc_curve(y_test, y_pred)\n",
        "plt.plot([0,1], [0,1], 'k--')\n",
        "\n",
        "for x, y, txt in zip(fpr[::500], tpr[::500], thresholds[::500]):\n",
        "    plt.annotate(np.round(txt,2), (x, y-0.04))\n",
        "\n",
        "plt.plot(fpr, tpr, label='CatBoost Curve')\n",
        "plt.xlabel('False Positive Rate')\n",
        "plt.ylabel('True Positive Rate')\n",
        "plt.title('CatBoost ROC Curve')"
      ],
      "metadata": {
        "colab": {
          "base_uri": "https://localhost:8080/",
          "height": 316
        },
        "id": "MKlR9L3Cs1cO",
        "outputId": "19acef9a-8e3d-400e-f05d-9589d6a54d72"
      },
      "execution_count": null,
      "outputs": [
        {
          "output_type": "execute_result",
          "data": {
            "text/plain": [
              "Text(0.5, 1.0, 'CatBoost ROC Curve')"
            ]
          },
          "metadata": {},
          "execution_count": 421
        },
        {
          "output_type": "display_data",
          "data": {
            "image/png": "[encoded data removed]",
            "text/plain": [
              "<Figure size 432x288 with 1 Axes>"
            ]
          },
          "metadata": {}
        }
      ]
    },
    {
      "cell_type": "code",
      "source": [
        "y_pred_cv_w_threshold = set_threshold(0.04, y_pred)"
      ],
      "metadata": {
        "id": "l8zb5wfVtDeA"
      },
      "execution_count": null,
      "outputs": []
    },
    {
      "cell_type": "markdown",
      "source": [
        " Model evaluation "
      ],
      "metadata": {
        "id": "P3oBQP2jy56T"
      }
    },
    {
      "cell_type": "code",
      "source": [
        "print('ROC-AUC =', round(roc_auc_score(y_test, y_pred_cv_w_threshold), 2))"
      ],
      "metadata": {
        "colab": {
          "base_uri": "https://localhost:8080/"
        },
        "id": "2MJFT6DFtQcI",
        "outputId": "73c3075e-da57-417f-9eac-48fe8266641c"
      },
      "execution_count": null,
      "outputs": [
        {
          "output_type": "stream",
          "name": "stdout",
          "text": [
            "ROC-AUC = 0.78\n"
          ]
        }
      ]
    },
    {
      "cell_type": "code",
      "source": [
        "print(classification_report(y_test, y_pred_cv_w_threshold))"
      ],
      "metadata": {
        "colab": {
          "base_uri": "https://localhost:8080/"
        },
        "id": "YyyCTAs8tQ4R",
        "outputId": "a9736572-4e1f-467c-c3df-ad611cb82b45"
      },
      "execution_count": null,
      "outputs": [
        {
          "output_type": "stream",
          "name": "stdout",
          "text": [
            "              precision    recall  f1-score   support\n",
            "\n",
            "           0       0.99      0.69      0.82     28938\n",
            "           1       0.17      0.86      0.28      2040\n",
            "\n",
            "    accuracy                           0.71     30978\n",
            "   macro avg       0.58      0.78      0.55     30978\n",
            "weighted avg       0.93      0.71      0.78     30978\n",
            "\n"
          ]
        }
      ]
    },
    {
      "cell_type": "markdown",
      "source": [
        "Prediction of X_test on Kaggle"
      ],
      "metadata": {
        "id": "qYUYBLe9uAK7"
      }
    },
    {
      "cell_type": "code",
      "source": [
        "y_pred_proba = catboost_cv_best.predict_proba(X_test_check)[::, 1]"
      ],
      "metadata": {
        "id": "-wHM4HN9uNLm"
      },
      "execution_count": null,
      "outputs": []
    },
    {
      "cell_type": "code",
      "source": [
        "df_test = pd.DataFrame()\n",
        "df_test['index'] = X_test_checks['index'] \n",
        "df_test['target'] = y_pred_proba"
      ],
      "metadata": {
        "id": "mqDp_vWfuBKj"
      },
      "execution_count": null,
      "outputs": []
    },
    {
      "cell_type": "code",
      "source": [
        "df_test.to_csv('catboost.csv', index = False) "
      ],
      "metadata": {
        "id": "C0uWR6LzuJk7"
      },
      "execution_count": null,
      "outputs": []
    },
    {
      "cell_type": "markdown",
      "metadata": {
        "id": "_ir0UE4VglMJ"
      },
      "source": [
        "### Ensemble Method"
      ]
    },
    {
      "cell_type": "code",
      "execution_count": null,
      "metadata": {
        "id": "I1GA1dV-gm-M"
      },
      "outputs": [],
      "source": [
        "clf_voting = VotingClassifier(\n",
        "    estimators = [('catboost', catboost_cv_best),\n",
        "                  ('logreg', logreg),\n",
        "                  ('knn', knn_cv_best)], voting='soft',\n",
        ")"
      ]
    },
    {
      "cell_type": "code",
      "execution_count": null,
      "metadata": {
        "id": "tvHdshrsNe44",
        "colab": {
          "base_uri": "https://localhost:8080/"
        },
        "outputId": "1ea53b07-19d1-4b60-e1b8-9ed50e90ebb8"
      },
      "outputs": [
        {
          "output_type": "stream",
          "name": "stdout",
          "text": [
            "0:\tlearn: 0.5250313\ttotal: 17.7ms\tremaining: 1.47s\n",
            "1:\tlearn: 0.4208993\ttotal: 31.8ms\tremaining: 1.3s\n",
            "2:\tlearn: 0.3521434\ttotal: 45.3ms\tremaining: 1.22s\n",
            "3:\tlearn: 0.3039016\ttotal: 53.5ms\tremaining: 1.07s\n",
            "4:\tlearn: 0.2694416\ttotal: 67.1ms\tremaining: 1.06s\n",
            "5:\tlearn: 0.2456845\ttotal: 82.2ms\tremaining: 1.07s\n",
            "6:\tlearn: 0.2280067\ttotal: 94.6ms\tremaining: 1.04s\n",
            "7:\tlearn: 0.2148435\ttotal: 108ms\tremaining: 1.02s\n",
            "8:\tlearn: 0.2051980\ttotal: 122ms\tremaining: 1.01s\n",
            "9:\tlearn: 0.1979717\ttotal: 136ms\tremaining: 1.01s\n",
            "10:\tlearn: 0.1929521\ttotal: 151ms\tremaining: 1s\n",
            "11:\tlearn: 0.1887415\ttotal: 166ms\tremaining: 996ms\n",
            "12:\tlearn: 0.1855785\ttotal: 182ms\tremaining: 996ms\n",
            "13:\tlearn: 0.1836334\ttotal: 197ms\tremaining: 984ms\n",
            "14:\tlearn: 0.1821347\ttotal: 211ms\tremaining: 970ms\n",
            "15:\tlearn: 0.1809604\ttotal: 229ms\tremaining: 975ms\n",
            "16:\tlearn: 0.1799248\ttotal: 251ms\tremaining: 990ms\n",
            "17:\tlearn: 0.1789753\ttotal: 267ms\tremaining: 977ms\n",
            "18:\tlearn: 0.1782824\ttotal: 285ms\tremaining: 976ms\n",
            "19:\tlearn: 0.1777837\ttotal: 300ms\tremaining: 960ms\n",
            "20:\tlearn: 0.1772305\ttotal: 316ms\tremaining: 947ms\n",
            "21:\tlearn: 0.1768078\ttotal: 331ms\tremaining: 933ms\n",
            "22:\tlearn: 0.1765522\ttotal: 345ms\tremaining: 915ms\n",
            "23:\tlearn: 0.1762678\ttotal: 358ms\tremaining: 896ms\n",
            "24:\tlearn: 0.1760728\ttotal: 373ms\tremaining: 880ms\n",
            "25:\tlearn: 0.1758189\ttotal: 389ms\tremaining: 868ms\n",
            "26:\tlearn: 0.1755548\ttotal: 404ms\tremaining: 853ms\n",
            "27:\tlearn: 0.1755279\ttotal: 439ms\tremaining: 878ms\n",
            "28:\tlearn: 0.1753190\ttotal: 455ms\tremaining: 862ms\n",
            "29:\tlearn: 0.1752872\ttotal: 468ms\tremaining: 843ms\n",
            "30:\tlearn: 0.1751587\ttotal: 484ms\tremaining: 828ms\n",
            "31:\tlearn: 0.1750237\ttotal: 499ms\tremaining: 811ms\n",
            "32:\tlearn: 0.1749691\ttotal: 512ms\tremaining: 791ms\n",
            "33:\tlearn: 0.1749630\ttotal: 525ms\tremaining: 773ms\n",
            "34:\tlearn: 0.1748630\ttotal: 540ms\tremaining: 755ms\n",
            "35:\tlearn: 0.1748329\ttotal: 553ms\tremaining: 738ms\n",
            "36:\tlearn: 0.1747288\ttotal: 568ms\tremaining: 721ms\n",
            "37:\tlearn: 0.1747161\ttotal: 580ms\tremaining: 703ms\n",
            "38:\tlearn: 0.1745314\ttotal: 600ms\tremaining: 692ms\n",
            "39:\tlearn: 0.1743995\ttotal: 613ms\tremaining: 675ms\n",
            "40:\tlearn: 0.1743133\ttotal: 632ms\tremaining: 663ms\n",
            "41:\tlearn: 0.1742571\ttotal: 655ms\tremaining: 655ms\n",
            "42:\tlearn: 0.1741674\ttotal: 669ms\tremaining: 638ms\n",
            "43:\tlearn: 0.1740620\ttotal: 682ms\tremaining: 620ms\n",
            "44:\tlearn: 0.1739722\ttotal: 696ms\tremaining: 603ms\n",
            "45:\tlearn: 0.1739023\ttotal: 714ms\tremaining: 590ms\n",
            "46:\tlearn: 0.1738328\ttotal: 728ms\tremaining: 573ms\n",
            "47:\tlearn: 0.1738202\ttotal: 740ms\tremaining: 555ms\n",
            "48:\tlearn: 0.1738130\ttotal: 753ms\tremaining: 538ms\n",
            "49:\tlearn: 0.1737193\ttotal: 766ms\tremaining: 521ms\n",
            "50:\tlearn: 0.1737114\ttotal: 779ms\tremaining: 504ms\n",
            "51:\tlearn: 0.1736440\ttotal: 792ms\tremaining: 488ms\n",
            "52:\tlearn: 0.1735664\ttotal: 807ms\tremaining: 472ms\n",
            "53:\tlearn: 0.1734323\ttotal: 821ms\tremaining: 456ms\n",
            "54:\tlearn: 0.1734223\ttotal: 836ms\tremaining: 441ms\n",
            "55:\tlearn: 0.1734119\ttotal: 849ms\tremaining: 424ms\n",
            "56:\tlearn: 0.1733954\ttotal: 867ms\tremaining: 410ms\n",
            "57:\tlearn: 0.1733809\ttotal: 887ms\tremaining: 398ms\n",
            "58:\tlearn: 0.1733678\ttotal: 900ms\tremaining: 381ms\n",
            "59:\tlearn: 0.1733607\ttotal: 913ms\tremaining: 365ms\n",
            "60:\tlearn: 0.1733507\ttotal: 926ms\tremaining: 349ms\n",
            "61:\tlearn: 0.1733452\ttotal: 939ms\tremaining: 333ms\n",
            "62:\tlearn: 0.1733399\ttotal: 953ms\tremaining: 318ms\n",
            "63:\tlearn: 0.1733348\ttotal: 966ms\tremaining: 302ms\n",
            "64:\tlearn: 0.1733298\ttotal: 978ms\tremaining: 286ms\n",
            "65:\tlearn: 0.1733250\ttotal: 991ms\tremaining: 270ms\n",
            "66:\tlearn: 0.1733206\ttotal: 1s\tremaining: 255ms\n",
            "67:\tlearn: 0.1733163\ttotal: 1.02s\tremaining: 239ms\n",
            "68:\tlearn: 0.1733119\ttotal: 1.03s\tremaining: 224ms\n",
            "69:\tlearn: 0.1733078\ttotal: 1.04s\tremaining: 208ms\n",
            "70:\tlearn: 0.1733037\ttotal: 1.05s\tremaining: 193ms\n",
            "71:\tlearn: 0.1733000\ttotal: 1.07s\tremaining: 178ms\n",
            "72:\tlearn: 0.1732964\ttotal: 1.08s\tremaining: 163ms\n",
            "73:\tlearn: 0.1732927\ttotal: 1.09s\tremaining: 148ms\n",
            "74:\tlearn: 0.1732894\ttotal: 1.11s\tremaining: 133ms\n",
            "75:\tlearn: 0.1732864\ttotal: 1.12s\tremaining: 118ms\n",
            "76:\tlearn: 0.1731743\ttotal: 1.13s\tremaining: 103ms\n",
            "77:\tlearn: 0.1731711\ttotal: 1.15s\tremaining: 88.2ms\n",
            "78:\tlearn: 0.1730747\ttotal: 1.16s\tremaining: 73.4ms\n",
            "79:\tlearn: 0.1730716\ttotal: 1.17s\tremaining: 58.6ms\n",
            "80:\tlearn: 0.1730685\ttotal: 1.19s\tremaining: 43.9ms\n",
            "81:\tlearn: 0.1730655\ttotal: 1.2s\tremaining: 29.2ms\n",
            "82:\tlearn: 0.1730578\ttotal: 1.21s\tremaining: 14.6ms\n",
            "83:\tlearn: 0.1730549\ttotal: 1.23s\tremaining: 0us\n"
          ]
        },
        {
          "output_type": "execute_result",
          "data": {
            "text/plain": [
              "VotingClassifier(estimators=[('catboost',\n",
              "                              <catboost.core.CatBoostClassifier object at 0x7f2d7c9fd610>),\n",
              "                             ('logreg', LogisticRegression()),\n",
              "                             ('knn',\n",
              "                              KNeighborsClassifier(algorithm='brute',\n",
              "                                                   n_neighbors=18, p=1))],\n",
              "                 voting='soft')"
            ]
          },
          "metadata": {},
          "execution_count": 448
        }
      ],
      "source": [
        "clf_voting.fit(X_train, y_train)"
      ]
    },
    {
      "cell_type": "markdown",
      "source": [
        "Prediction of X_test"
      ],
      "metadata": {
        "id": "ZmL5540pyiEE"
      }
    },
    {
      "cell_type": "code",
      "execution_count": null,
      "metadata": {
        "id": "zk_con1qTvAe"
      },
      "outputs": [],
      "source": [
        "#y_pred = clf_voting.predict(X_test)\n",
        "y_pred_prob = clf_voting.predict_proba(X_test)[::, 1]"
      ]
    },
    {
      "cell_type": "markdown",
      "source": [
        "ROC Curve"
      ],
      "metadata": {
        "id": "DT77ObBPydqu"
      }
    },
    {
      "cell_type": "code",
      "execution_count": null,
      "metadata": {
        "id": "yTX_7wmTT7-8",
        "colab": {
          "base_uri": "https://localhost:8080/",
          "height": 316
        },
        "outputId": "b82753b8-bcf9-432e-f995-475d0c5fa054"
      },
      "outputs": [
        {
          "output_type": "execute_result",
          "data": {
            "text/plain": [
              "Text(0.5, 1.0, 'Random Forest ROC Curve')"
            ]
          },
          "metadata": {},
          "execution_count": 450
        },
        {
          "output_type": "display_data",
          "data": {
            "image/png": "[encoded data removed]",
            "text/plain": [
              "<Figure size 432x288 with 1 Axes>"
            ]
          },
          "metadata": {}
        }
      ],
      "source": [
        "fpr, tpr, thresholds = roc_curve(y_test, y_pred_prob_cv)\n",
        "plt.plot([0,1], [0,1], 'k--')\n",
        "\n",
        "for x, y, txt in zip(fpr[::500], tpr[::500], thresholds[::500]):\n",
        "    plt.annotate(np.round(txt,2), (x, y-0.04))\n",
        "\n",
        "plt.plot(fpr, tpr, label='Random Forest Curve')\n",
        "plt.xlabel('False Positive Rate')\n",
        "plt.ylabel('True Positive Rate')\n",
        "plt.title('Random Forest ROC Curve')"
      ]
    },
    {
      "cell_type": "code",
      "execution_count": null,
      "metadata": {
        "id": "y2nhJYsCVLQd"
      },
      "outputs": [],
      "source": [
        "y_pred_proba_w_thr = set_threshold(0.12, y_pred_prob)"
      ]
    },
    {
      "cell_type": "code",
      "execution_count": null,
      "metadata": {
        "id": "qbKsMR4gUYTv",
        "colab": {
          "base_uri": "https://localhost:8080/"
        },
        "outputId": "c64fd011-743a-4958-8bb0-11cdc9524b12"
      },
      "outputs": [
        {
          "output_type": "stream",
          "name": "stdout",
          "text": [
            "              precision    recall  f1-score   support\n",
            "\n",
            "           0       0.97      0.91      0.94     28938\n",
            "           1       0.31      0.60      0.41      2040\n",
            "\n",
            "    accuracy                           0.89     30978\n",
            "   macro avg       0.64      0.75      0.67     30978\n",
            "weighted avg       0.93      0.89      0.90     30978\n",
            "\n"
          ]
        }
      ],
      "source": [
        "print(classification_report(y_test, y_pred_proba_w_thr))"
      ]
    },
    {
      "cell_type": "code",
      "execution_count": null,
      "metadata": {
        "id": "RacSpEAWVp-W",
        "colab": {
          "base_uri": "https://localhost:8080/"
        },
        "outputId": "b88f0187-6a40-451b-cdf4-a19f0377348b"
      },
      "outputs": [
        {
          "output_type": "stream",
          "name": "stdout",
          "text": [
            "ROC-AUC = 0.78\n"
          ]
        }
      ],
      "source": [
        "print('ROC-AUC =', round(roc_auc_score(y_test, y_pred_cv_w_threshold), 2))"
      ]
    },
    {
      "cell_type": "markdown",
      "source": [
        "Prediction of X_test on Kaggle\n"
      ],
      "metadata": {
        "id": "vIR9_uJiwZWn"
      }
    },
    {
      "cell_type": "code",
      "source": [
        "y_pred_proba = clf_voting.predict_proba(X_test_check)[::, 1]"
      ],
      "metadata": {
        "id": "Cs1GKGNpwsMv"
      },
      "execution_count": null,
      "outputs": []
    },
    {
      "cell_type": "code",
      "source": [
        "df_test = pd.DataFrame()\n",
        "df_test['index'] = X_test_checks['index'] \n",
        "df_test['target'] = y_pred_proba\n"
      ],
      "metadata": {
        "id": "p5tSgMbWv_Re"
      },
      "execution_count": null,
      "outputs": []
    },
    {
      "cell_type": "code",
      "source": [
        "df_test.to_csv('ensemble.csv', index = False) "
      ],
      "metadata": {
        "id": "7JzmwT89wnK1"
      },
      "execution_count": null,
      "outputs": []
    }
  ],
  "metadata": {
    "colab": {
      "collapsed_sections": [
        "wf2EOSnosxJc",
        "2hht7v2As1yv",
        "TjzXAqKWs6eR",
        "2rmEPJrJF_wQ",
        "T5DIcoh7KDXn",
        "1FoSxBSxxI3i",
        "v0AEXd4nDv07",
        "6t4GI4_UYDnY",
        "_ir0UE4VglMJ",
        "J59YTJG-umxe"
      ],
      "name": "Credit_scoring.ipynb",
      "provenance": []
    },
    "kernelspec": {
      "display_name": "Python 3",
      "name": "python3"
    },
    "language_info": {
      "name": "python"
    }
  },
  "nbformat": 4,
  "nbformat_minor": 0
}